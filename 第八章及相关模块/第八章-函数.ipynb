{
 "cells": [
  {
   "cell_type": "code",
   "execution_count": 1,
   "metadata": {},
   "outputs": [
    {
     "name": "stdout",
     "output_type": "stream",
     "text": [
      "I learned how to use function to print message\n"
     ]
    }
   ],
   "source": [
    "# 8-1 消息\n",
    "def display_message():\n",
    "    \"\"\"Function to display message\"\"\"\n",
    "    print('I learned how to use function to print message')\n",
    "    \n",
    "display_message()"
   ]
  },
  {
   "cell_type": "code",
   "execution_count": 4,
   "metadata": {},
   "outputs": [
    {
     "name": "stdout",
     "output_type": "stream",
     "text": [
      "One of my favorite book is 三国演义\n"
     ]
    }
   ],
   "source": [
    "# 8-2 喜欢的图书\n",
    "def favorite_book(title):\n",
    "    '''a function used for my favorite book'''\n",
    "    print('One of my favorite book is ' + title.title())\n",
    "favorite_book('三国演义')"
   ]
  },
  {
   "cell_type": "code",
   "execution_count": 2,
   "metadata": {},
   "outputs": [
    {
     "name": "stdout",
     "output_type": "stream",
     "text": [
      "The T shirt is s with slogan: make American great again\n",
      "The T shirt is s with slogan: make American great again\n"
     ]
    }
   ],
   "source": [
    "# 8-3 T 恤\n",
    "def make_shirt(size, slogan):\n",
    "    '''a function to describe a T shirt'''\n",
    "    print('The T shirt is ' + size + ' with slogan: ' + slogan)\n",
    "    \n",
    "make_shirt('s','make American great again')\n",
    "make_shirt(size = 's', slogan = 'make American great again')"
   ]
  },
  {
   "cell_type": "code",
   "execution_count": 6,
   "metadata": {},
   "outputs": [
    {
     "name": "stdout",
     "output_type": "stream",
     "text": [
      "The T shirt is big with slogan: I love Python\n",
      "The T shirt is median with slogan: I love Python\n",
      "The T shirt is big with slogan: make American great again\n"
     ]
    }
   ],
   "source": [
    "# 8-4 大号 T 恤\n",
    "def make_shirt(size='big', slogan='I love Python'):\n",
    "    '''a function to describe a T shirt'''\n",
    "    print('The T shirt is ' + size + ' with slogan: ' + slogan)\n",
    "make_shirt()  \n",
    "make_shirt('median')\n",
    "make_shirt(slogan = 'make American great again')"
   ]
  },
  {
   "cell_type": "code",
   "execution_count": 10,
   "metadata": {},
   "outputs": [
    {
     "name": "stdout",
     "output_type": "stream",
     "text": [
      "Kunming is in China\n",
      "Shanghai is in China\n",
      "New York is in USA\n"
     ]
    }
   ],
   "source": [
    "# 8-5 城市\n",
    "def describe_city(city, country='China'):\n",
    "    '''a function describe city in one country'''\n",
    "    print(city + ' is in ' + country)\n",
    "    \n",
    "describe_city('Kunming')\n",
    "describe_city(city = 'Shanghai')\n",
    "describe_city(city = 'New York', country = 'USA')"
   ]
  },
  {
   "cell_type": "code",
   "execution_count": 11,
   "metadata": {},
   "outputs": [
    {
     "name": "stdout",
     "output_type": "stream",
     "text": [
      "Kunming, China\n"
     ]
    }
   ],
   "source": [
    "# 8-6 城市名\n",
    "def city_country(city, country):\n",
    "    '''a function describe a city in one country'''\n",
    "    msg = city + ', ' + country\n",
    "    return msg.title()\n",
    "\n",
    "message = city_country('Kunming', 'China')\n",
    "print(message)"
   ]
  },
  {
   "cell_type": "code",
   "execution_count": 24,
   "metadata": {},
   "outputs": [
    {
     "name": "stdout",
     "output_type": "stream",
     "text": [
      "{'artists': '李建', 'titles': '贝加尔湖畔', 'Number of Songs': 3}\n"
     ]
    }
   ],
   "source": [
    "# 8-7 专辑\n",
    "def make_album(artist, titles,songs=0):\n",
    "    '''a function to describe a album'''\n",
    "    \n",
    "    album_dict = {\n",
    "        'artists': artist,\n",
    "        'titles': titles,\n",
    "    }\n",
    "    if songs:\n",
    "        album_dict['Number of Songs'] = songs\n",
    "    return album_dict\n",
    "    \n",
    "album = make_album('李建','贝加尔湖畔',3)\n",
    "print(album)"
   ]
  },
  {
   "cell_type": "code",
   "execution_count": 27,
   "metadata": {},
   "outputs": [
    {
     "name": "stdout",
     "output_type": "stream",
     "text": [
      "\n",
      "Please input the artist and title\n",
      "(Enter q to quit at any time)\n",
      "Enter artist: 李建\n",
      "Enter a title: 贝加尔湖畔\n",
      "{'artists': '李建', 'titles': '贝加尔湖畔'}\n",
      "\n",
      "Please input the artist and title\n",
      "(Enter q to quit at any time)\n",
      "Enter artist: q\n"
     ]
    }
   ],
   "source": [
    "# 8-8 用户的专辑\n",
    "def make_album(artist, titles,songs = 0):\n",
    "    '''a function to describe a album'''\n",
    "    \n",
    "    album_dict = {\n",
    "        'artists': artist,\n",
    "        'titles': titles,\n",
    "    }\n",
    "    if songs:\n",
    "        album_dict['Number of Songs'] = songs\n",
    "    return album_dict\n",
    "\n",
    "while True:\n",
    "    print('\\nPlease input the artist and title')\n",
    "    print('(Enter q to quit at any time)')\n",
    "    \n",
    "    artist = input('Enter artist: ')\n",
    "    if artist == 'q':\n",
    "        break\n",
    "        \n",
    "    title = input('Enter a title: ')\n",
    "    if title == 'q':\n",
    "        break\n",
    "        \n",
    "    album = make_album(artist, title)\n",
    "    print(album)"
   ]
  },
  {
   "cell_type": "code",
   "execution_count": 1,
   "metadata": {},
   "outputs": [
    {
     "name": "stdout",
     "output_type": "stream",
     "text": [
      "Pengfei Chen\n",
      "Gang Chen\n",
      "Xuemei Chen\n"
     ]
    }
   ],
   "source": [
    "# 8-9 魔术师\n",
    "def show_magicians(magicians):\n",
    "    '''a function to print magicians'''\n",
    "    for magician in magicians:\n",
    "        print(magician.title())\n",
    "        \n",
    "magicians = ['pengfei chen','gang chen','xuemei chen']        \n",
    "show_magicians(magicians)"
   ]
  },
  {
   "cell_type": "code",
   "execution_count": 7,
   "metadata": {},
   "outputs": [
    {
     "name": "stdout",
     "output_type": "stream",
     "text": [
      "The Great Xuemei Chen\n",
      "The Great Gang Chen\n",
      "The Great Pengfei Chen\n"
     ]
    }
   ],
   "source": [
    "# 8-10 了不起的魔术师\n",
    "def make_great(great_magicians, magicians):\n",
    "    '''a function to greet magicians'''\n",
    "    while magicians:\n",
    "        magician = magicians.pop()\n",
    "        great_magician = 'the Great ' + magician\n",
    "        great_magicians.append(great_magician)\n",
    "        \n",
    "def show_magicians(great_magicians):\n",
    "        '''a function to print great magicians'''\n",
    "        for magician in great_magicians:\n",
    "            print(magician.title())\n",
    "            \n",
    "magicians = ['pengfei chen','gang chen','xuemei chen']\n",
    "great_magicians = []\n",
    "\n",
    "make_great(great_magicians, magicians)\n",
    "show_magicians(great_magicians)"
   ]
  },
  {
   "cell_type": "code",
   "execution_count": 11,
   "metadata": {},
   "outputs": [
    {
     "name": "stdout",
     "output_type": "stream",
     "text": [
      "The Great Xuemei Chen\n",
      "The Great Gang Chen\n",
      "The Great Pengfei Chen\n",
      "\n",
      "Original unchanged list\n",
      "Pengfei Chen\n",
      "Gang Chen\n",
      "Xuemei Chen\n"
     ]
    }
   ],
   "source": [
    "# 8-11不变的魔术师\n",
    "def make_great(great_magicians, magicians):\n",
    "    '''a function to greet magicians'''\n",
    "    while magicians:\n",
    "        magician = magicians.pop()\n",
    "        great_magician = 'the Great ' + magician\n",
    "        great_magicians.append(great_magician)\n",
    "        \n",
    "def show_magicians(great_magicians):\n",
    "        '''a function to print great magicians'''\n",
    "        for magician in great_magicians:\n",
    "            print(magician.title())\n",
    "            \n",
    "magicians = ['pengfei chen','gang chen','xuemei chen']\n",
    "great_magicians = []\n",
    "\n",
    "make_great(great_magicians, magicians[:])\n",
    "show_magicians(great_magicians)\n",
    "\n",
    "print('\\nOriginal unchanged list')\n",
    "show_magicians(magicians)"
   ]
  },
  {
   "cell_type": "code",
   "execution_count": 15,
   "metadata": {},
   "outputs": [
    {
     "name": "stdout",
     "output_type": "stream",
     "text": [
      "user request the following toppings: \n",
      "chicken\n",
      "user request the following toppings: \n",
      "chicken\n",
      "beef\n"
     ]
    }
   ],
   "source": [
    "#8-12 三明治\n",
    "def make_sandwich(*toppings):\n",
    "    '''a function to make a sandwich'''\n",
    "    print('user request the following toppings: ')\n",
    "    for topping in toppings:\n",
    "        print(topping)\n",
    "        \n",
    "make_sandwich('chicken')\n",
    "make_sandwich('chicken','beef')"
   ]
  },
  {
   "cell_type": "code",
   "execution_count": 16,
   "metadata": {},
   "outputs": [],
   "source": [
    "# 8-13用户简介 略"
   ]
  },
  {
   "cell_type": "code",
   "execution_count": 22,
   "metadata": {},
   "outputs": [
    {
     "name": "stdout",
     "output_type": "stream",
     "text": [
      "{'manufacturer': 'subaru', 'style': 'outback', 'color': 'blue', 'tow_package': True}\n"
     ]
    }
   ],
   "source": [
    "# 8-14 汽车\n",
    "def car(brand, style, **other_info):\n",
    "    # 两个** 代表不知道接受的实参会是什么样类型的\n",
    "    # 所以把接收到的实参都以键对值得形式输出\n",
    "    '''a function to creat a car dictionary'''\n",
    "    car_dict = {}\n",
    "    car_dict['manufacturer'] = brand\n",
    "    car_dict['style'] = style\n",
    "    for k,v in other_info.items():\n",
    "        car_dict[k] = v\n",
    "    return car_dict\n",
    "\n",
    "my_outback = car('subaru', 'outback', color ='blue', tow_package=True)\n",
    "print(my_outback)"
   ]
  },
  {
   "cell_type": "code",
   "execution_count": null,
   "metadata": {},
   "outputs": [],
   "source": [
    "#8-15 打印模型\n",
    "# 见 print_models.py and printing_functions.py"
   ]
  }
 ],
 "metadata": {
  "kernelspec": {
   "display_name": "Python 3",
   "language": "python",
   "name": "python3"
  },
  "language_info": {
   "codemirror_mode": {
    "name": "ipython",
    "version": 3
   },
   "file_extension": ".py",
   "mimetype": "text/x-python",
   "name": "python",
   "nbconvert_exporter": "python",
   "pygments_lexer": "ipython3",
   "version": "3.7.4"
  }
 },
 "nbformat": 4,
 "nbformat_minor": 2
}
