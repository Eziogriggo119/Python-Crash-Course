{
 "cells": [
  {
   "cell_type": "code",
   "execution_count": 3,
   "metadata": {},
   "outputs": [
    {
     "name": "stdout",
     "output_type": "stream",
     "text": [
      "pengfei chen\n",
      "xuemei chen\n",
      "gang chen\n"
     ]
    }
   ],
   "source": [
    "# 3-1 姓名 \n",
    "names = ['pengfei chen','xuemei chen','gang chen']\n",
    "print(names[0])\n",
    "print(names[1])\n",
    "print(names[2])"
   ]
  },
  {
   "cell_type": "code",
   "execution_count": 4,
   "metadata": {},
   "outputs": [
    {
     "name": "stdout",
     "output_type": "stream",
     "text": [
      "Hello Pengfei Chen!\n",
      "Hello Xuemei Chen!\n",
      "Hello Gang Chen!\n"
     ]
    }
   ],
   "source": [
    "# 3-2 问候语\n",
    "names = ['pengfei chen','xuemei chen','gang chen']\n",
    "message = 'Hello ' + names[0].title() + '!'\n",
    "print(message)\n",
    "message = 'Hello ' + names[1].title() + '!'\n",
    "print(message)\n",
    "message = 'Hello ' + names[2].title() + '!'\n",
    "print(message)"
   ]
  },
  {
   "cell_type": "code",
   "execution_count": 5,
   "metadata": {},
   "outputs": [],
   "source": [
    "# 3-3 略"
   ]
  },
  {
   "cell_type": "code",
   "execution_count": 7,
   "metadata": {},
   "outputs": [
    {
     "name": "stdout",
     "output_type": "stream",
     "text": [
      "Please come to the dinner Pengfei Chen\n",
      "Please come to the dinner Lin Lin\n",
      "Please come to the dinner Xuemei Chen\n"
     ]
    }
   ],
   "source": [
    "# 3-4 嘉宾名单\n",
    "guest = ['pengfei chen', 'lin lin', 'xuemei chen']\n",
    "msg = 'Please come to the dinner ' + guest[0].title()\n",
    "print(msg)\n",
    "msg = 'Please come to the dinner ' + guest[1].title()\n",
    "print(msg)\n",
    "msg = 'Please come to the dinner ' + guest[2].title()\n",
    "print(msg)"
   ]
  },
  {
   "cell_type": "code",
   "execution_count": 10,
   "metadata": {},
   "outputs": [
    {
     "name": "stdout",
     "output_type": "stream",
     "text": [
      "Lin Lin can't attend the diner\n",
      "Please come to the dinner Gang Chen\n"
     ]
    }
   ],
   "source": [
    "# 3-5 修改嘉宾名单\n",
    "guest = ['pengfei chen', 'lin lin', 'xuemei chen']\n",
    "print(guest[1].title() + \" can't attend the diner\")\n",
    "guest[1] = 'gang chen'\n",
    "msg = 'Please come to the dinner ' + guest[1].title()\n",
    "print(msg)"
   ]
  },
  {
   "cell_type": "code",
   "execution_count": 68,
   "metadata": {},
   "outputs": [
    {
     "name": "stdout",
     "output_type": "stream",
     "text": [
      "Big table is available right now\n",
      "Please come to the dinner Zijing\n",
      "Please come to the dinner Pengfei Chen\n",
      "Please come to the dinner Aaron\n",
      "Please come to the dinner Lin Lin\n",
      "Please come to the dinner Xuemei Chen\n",
      "Please come to the dinner Joyce\n",
      "\n",
      "\n",
      "['zijing', 'pengfei chen', 'aaron', 'lin lin', 'xuemei chen', 'joyce']\n"
     ]
    }
   ],
   "source": [
    "# 3-6 添加嘉宾\n",
    "print('Big table is available right now')\n",
    "guests = ['pengfei chen', 'lin lin', 'xuemei chen']\n",
    "guests.insert(0,'zijing')\n",
    "guests.insert(2,'aaron')\n",
    "guests.append('joyce')\n",
    "for guest in guests:\n",
    "    print('Please come to the dinner ' + guest.title())\n",
    "    \n",
    "print('\\n')\n",
    "print(guests)"
   ]
  },
  {
   "cell_type": "code",
   "execution_count": 69,
   "metadata": {
    "scrolled": true
   },
   "outputs": [
    {
     "name": "stdout",
     "output_type": "stream",
     "text": [
      "we can only invite two guest to this dinner\n",
      "sorry joyce, we can't invite you this time\n",
      "sorry xuemei chen, we can't invite you this time\n",
      "sorry lin lin, we can't invite you this time\n",
      "sorry aaron, we can't invite you this time\n",
      "\n",
      "\n",
      "Please come to the dinner zijing!\n",
      "Please come to the dinner pengfei chen!\n",
      "\n",
      "\n",
      "the list is empty\n"
     ]
    }
   ],
   "source": [
    "# 3-7 缩减名单\n",
    "print('we can only invite two guest to this dinner')\n",
    "print('sorry ' + guests.pop()+ \", we can't invite you this time\")\n",
    "print('sorry ' + guests.pop()+ \", we can't invite you this time\")\n",
    "print('sorry ' + guests.pop()+ \", we can't invite you this time\")\n",
    "print('sorry ' + guests.pop()+ \", we can't invite you this time\")\n",
    "print('\\n')\n",
    "print('Please come to the dinner ' + guests[0] + '!')\n",
    "print('Please come to the dinner ' + guests[1] + '!')\n",
    "print('\\n')\n",
    "\n",
    "del guests[0]\n",
    "del guests[0]\n",
    "\n",
    "if guests:\n",
    "    print('the list is not empty')\n",
    "else:\n",
    "    print('the list is empty')\n",
    "#print(guests)"
   ]
  },
  {
   "cell_type": "code",
   "execution_count": 11,
   "metadata": {},
   "outputs": [
    {
     "name": "stdout",
     "output_type": "stream",
     "text": [
      "['kunming', 'paris', 'washington dc', 'shanghai', 'su zhou']\n",
      "['kunming', 'paris', 'shanghai', 'su zhou', 'washington dc']\n",
      "['kunming', 'paris', 'washington dc', 'shanghai', 'su zhou']\n",
      "['washington dc', 'su zhou', 'shanghai', 'paris', 'kunming']\n",
      "['kunming', 'paris', 'washington dc', 'shanghai', 'su zhou']\n",
      "\n",
      "\n",
      "['su zhou', 'shanghai', 'washington dc', 'paris', 'kunming']\n",
      "['kunming', 'paris', 'washington dc', 'shanghai', 'su zhou']\n",
      "\n",
      "\n",
      "['kunming', 'paris', 'shanghai', 'su zhou', 'washington dc']\n",
      "['washington dc', 'su zhou', 'shanghai', 'paris', 'kunming']\n"
     ]
    }
   ],
   "source": [
    "# 3-8 放眼世界\n",
    "places = ['kunming','paris','washington dc','shanghai','su zhou']\n",
    "print(places)\n",
    "print(sorted(places))\n",
    "print(places)\n",
    "print(sorted(places, reverse = True))\n",
    "print(places)\n",
    "print('\\n')\n",
    "places.reverse()\n",
    "print(places)\n",
    "places.reverse()\n",
    "print(places)\n",
    "print('\\n')\n",
    "places.sort()\n",
    "print(places)\n",
    "places.sort(reverse = True)\n",
    "print(places)"
   ]
  },
  {
   "cell_type": "code",
   "execution_count": 12,
   "metadata": {},
   "outputs": [],
   "source": [
    "# 3-9 晚餐嘉宾 略"
   ]
  },
  {
   "cell_type": "code",
   "execution_count": 13,
   "metadata": {},
   "outputs": [],
   "source": [
    "#3-10 尝试使用各个函数 略"
   ]
  },
  {
   "cell_type": "code",
   "execution_count": null,
   "metadata": {},
   "outputs": [],
   "source": []
  }
 ],
 "metadata": {
  "kernelspec": {
   "display_name": "Python 3",
   "language": "python",
   "name": "python3"
  },
  "language_info": {
   "codemirror_mode": {
    "name": "ipython",
    "version": 3
   },
   "file_extension": ".py",
   "mimetype": "text/x-python",
   "name": "python",
   "nbconvert_exporter": "python",
   "pygments_lexer": "ipython3",
   "version": "3.7.4"
  }
 },
 "nbformat": 4,
 "nbformat_minor": 2
}
