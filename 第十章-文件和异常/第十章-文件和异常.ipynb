{
 "cells": [
  {
   "cell_type": "code",
   "execution_count": 14,
   "metadata": {},
   "outputs": [
    {
     "name": "stdout",
     "output_type": "stream",
     "text": [
      "In Python you can store as much information as you want.\n",
      "In Python you can connect pieces of information.\n",
      "In Python you can model real-world situations.\n",
      "\n",
      "\n",
      "---looping over the file---\n",
      "In Python you can store as much information as you want.\n",
      "In Python you can connect pieces of information.\n",
      "In Python you can model real-world situations.\n",
      "\n",
      "---stor in a list---\n",
      "In Python you can store as much information as you want.\n",
      "In Python you can connect pieces of information.\n",
      "In Python you can model real-world situations.\n"
     ]
    }
   ],
   "source": [
    "# 10-1 Python 学习笔记\n",
    "filename = 'learning_python.txt'\n",
    "with open(filename) as file_object:\n",
    "    contents = file_object.read()\n",
    "    '''print the whole content from the file object'''\n",
    "    print(contents)\n",
    "    \n",
    "print('\\n---looping over the file---')\n",
    "with open(filename) as file_object:\n",
    "    for line in file_object:\n",
    "        print(line.rstrip())\n",
    "        \n",
    "print('\\n---stor in a list---')\n",
    "with open(filename) as file_object:\n",
    "    line_read = file_object.readlines()\n",
    "for line in line_read:\n",
    "    print(line.rstrip())"
   ]
  },
  {
   "cell_type": "code",
   "execution_count": 32,
   "metadata": {},
   "outputs": [
    {
     "name": "stdout",
     "output_type": "stream",
     "text": [
      "In C you can store as much information as you want.\n",
      "In C you can connect pieces of information.\n",
      "In C you can model real-world situations.\n"
     ]
    }
   ],
   "source": [
    "# 10-2 C语言学习笔记\n",
    "filename = 'learning_python.txt'\n",
    "with open(filename) as file_object:\n",
    "    line_read = file_object.readlines()\n",
    "\n",
    "for line in line_read:\n",
    "    line = line.rstrip()\n",
    "    print(line.replace('Python', 'C'))"
   ]
  },
  {
   "cell_type": "code",
   "execution_count": 33,
   "metadata": {},
   "outputs": [
    {
     "name": "stdout",
     "output_type": "stream",
     "text": [
      "please tell me your name: pengfei chen\n"
     ]
    }
   ],
   "source": [
    "# 10-3 访客\n",
    "filename = 'guest.txt'\n",
    "with open(filename,'w') as file_object:\n",
    "    guest_name = input('please tell me your name: ')\n",
    "    file_object.write(guest_name)\n",
    "    "
   ]
  },
  {
   "cell_type": "code",
   "execution_count": 4,
   "metadata": {},
   "outputs": [
    {
     "name": "stdout",
     "output_type": "stream",
     "text": [
      "(Rnter 'quit' to exit)\n",
      "\n",
      "What's your name: Xuemei Chen\n",
      "\n",
      "What's your name: Gang chen\n",
      "\n",
      "What's your name: quit\n"
     ]
    }
   ],
   "source": [
    "# 10-4 访客名单\n",
    "filename = 'guest.txt'\n",
    "print(\"(Enter 'quit' to exit)\")\n",
    "while True:\n",
    "    name = input(\"\\nWhat's your name: \")\n",
    "    if name == 'quit':\n",
    "        break\n",
    "    else:\n",
    "        with open(filename, 'a') as file_object:\n",
    "            msg = '\\n' + 'Hello ' + name + ', welcome!!!' \n",
    "            file_object.write(msg)"
   ]
  },
  {
   "cell_type": "code",
   "execution_count": 8,
   "metadata": {},
   "outputs": [
    {
     "name": "stdout",
     "output_type": "stream",
     "text": [
      "Enter 'quit' to exit\n",
      "\n",
      "Why do you like programming: useful\n",
      "\n",
      "Why do you like programming: fast\n",
      "\n",
      "Why do you like programming: convenient\n",
      "\n",
      "Why do you like programming: quit\n"
     ]
    }
   ],
   "source": [
    "# 10-5 关于编程的调查\n",
    "filename = 'learning_python_version2.txt'\n",
    "print(\"Enter 'quit' to exit\")\n",
    "while True: \n",
    "    query = input('\\nWhy do you like programming: ')\n",
    "    if query == 'quit':\n",
    "        break\n",
    "    else:\n",
    "        with open(filename, 'a') as file_object:\n",
    "            file_object.write(query + '\\n')"
   ]
  },
  {
   "cell_type": "code",
   "execution_count": 12,
   "metadata": {},
   "outputs": [
    {
     "name": "stdout",
     "output_type": "stream",
     "text": [
      "Please enter first number: 15\n",
      "Please enter second number: 20\n",
      "35\n"
     ]
    }
   ],
   "source": [
    "# 10-6 加法运算\n",
    "try:\n",
    "    first_number = input('Please enter first number: ')\n",
    "    int(first_number)\n",
    "    second_number = input('Please enter second number: ')\n",
    "    int(second_number)\n",
    "except ValueError:\n",
    "    print('Please enter a number instead of any strings')\n",
    "else:\n",
    "    total = int(first_number) + int(second_number)\n",
    "    print(total)"
   ]
  },
  {
   "cell_type": "code",
   "execution_count": 15,
   "metadata": {},
   "outputs": [
    {
     "name": "stdout",
     "output_type": "stream",
     "text": [
      "Enter q to quit\n",
      "Please enter first number: 15\n",
      "Please enter second number: 20\n",
      "35\n",
      "Please enter first number: 15\n",
      "Please enter second number: haha\n",
      "Please enter a number instead of any strings\n",
      "Please enter first number: q\n"
     ]
    }
   ],
   "source": [
    "# 10-7 加法计算器\n",
    "print('Enter q to quit')\n",
    "while True:\n",
    "    try:\n",
    "        first_number = input('Please enter first number: ')\n",
    "        if first_number == 'q':\n",
    "            break\n",
    "        else:\n",
    "            int(first_number)\n",
    "\n",
    "        second_number = input('Please enter second number: ')\n",
    "        if second_number == 'q':\n",
    "            break\n",
    "        else:\n",
    "            int(second_number)\n",
    "    except ValueError:\n",
    "        print('Please enter a number instead of any strings')\n",
    "    else:\n",
    "        total = int(first_number) + int(second_number)\n",
    "        print(total)"
   ]
  },
  {
   "cell_type": "code",
   "execution_count": 21,
   "metadata": {},
   "outputs": [
    {
     "name": "stdout",
     "output_type": "stream",
     "text": [
      "There is no dogs.txt in the path\n",
      "henry\n",
      "clarence\n",
      "mildred\n"
     ]
    }
   ],
   "source": [
    "# 10-8 猫和狗\n",
    "def read_file(filenames):\n",
    "    for filename in filenames:\n",
    "        try:\n",
    "            with open(filename) as file_object:\n",
    "                content = file_object.read()\n",
    "        except FileNotFoundError:\n",
    "            print('There is no ' + filename + ' in the path')\n",
    "        else:\n",
    "            print(content)\n",
    "        \n",
    "filenames = ['dogs.txt', 'cats.txt']\n",
    "read_file(filenames)"
   ]
  },
  {
   "cell_type": "code",
   "execution_count": 22,
   "metadata": {},
   "outputs": [
    {
     "name": "stdout",
     "output_type": "stream",
     "text": [
      "henry\n",
      "clarence\n",
      "mildred\n"
     ]
    }
   ],
   "source": [
    "# 10-9沉默的猫和狗\n",
    "def read_file(filenames):\n",
    "    for filename in filenames:\n",
    "        try:\n",
    "            with open(filename) as file_object:\n",
    "                content = file_object.read()\n",
    "        except FileNotFoundError:\n",
    "            '''there is no print once the except triggered'''\n",
    "            pass\n",
    "        else:\n",
    "            print(content)\n",
    "        \n",
    "filenames = ['dogs.txt', 'cats.txt']\n",
    "read_file(filenames)"
   ]
  },
  {
   "cell_type": "code",
   "execution_count": 23,
   "metadata": {},
   "outputs": [],
   "source": [
    "# 10-10 常见单词 略"
   ]
  },
  {
   "cell_type": "code",
   "execution_count": 27,
   "metadata": {},
   "outputs": [
    {
     "name": "stdout",
     "output_type": "stream",
     "text": [
      "Please enter your favorite number: 100\n",
      "Thanks, I will remember that\n"
     ]
    }
   ],
   "source": [
    "# 10-11喜欢的数字\n",
    "import json\n",
    "filename = 'number.json'\n",
    "number = input('Please enter your favorite number: ')\n",
    "with open(filename,'w') as file_object:\n",
    "    json.dump(number,file_object)\n",
    "    print(\"Thanks, I will remember that\")"
   ]
  },
  {
   "cell_type": "code",
   "execution_count": 28,
   "metadata": {},
   "outputs": [
    {
     "name": "stdout",
     "output_type": "stream",
     "text": [
      "I know your favorite number! It's 100\n"
     ]
    }
   ],
   "source": [
    "with open(filename) as file_object:\n",
    "    number = json.load(file_object)\n",
    "    print(\"I know your favorite number! It's \" + number )"
   ]
  },
  {
   "cell_type": "code",
   "execution_count": 30,
   "metadata": {},
   "outputs": [
    {
     "name": "stdout",
     "output_type": "stream",
     "text": [
      "Please enter your favorite number: 15\n"
     ]
    }
   ],
   "source": [
    "# 10-12 记住喜欢的数字\n",
    "import json\n",
    "filename = 'number_version2.json'\n",
    "try:\n",
    "    with open(filename) as file_object:\n",
    "        number = json.load(filename)\n",
    "except FileNotFoundError:\n",
    "    number = input('Please enter your favorite number: ')\n",
    "    with open(filename, 'w') as file_object:\n",
    "        json.dump(number,file_object)\n",
    "else:\n",
    "    print(\"I know your favorite number! It's \" + number)"
   ]
  },
  {
   "cell_type": "code",
   "execution_count": 8,
   "metadata": {},
   "outputs": [
    {
     "name": "stdout",
     "output_type": "stream",
     "text": [
      "Are you Eric? (y/n) y\n",
      "Welcome back, Eric!\n"
     ]
    }
   ],
   "source": [
    "import json\n",
    "\n",
    "def get_stored_username():\n",
    "    \"\"\"Get stored username if available.\"\"\"\n",
    "    filename = 'username.json'\n",
    "    try:\n",
    "        with open(filename) as f_obj:\n",
    "            username = json.load(f_obj)\n",
    "    except FileNotFoundError:\n",
    "        return None\n",
    "    else:\n",
    "        return username\n",
    "\n",
    "def get_new_username():\n",
    "    \"\"\"Prompt for a new username.\"\"\"\n",
    "    username = input(\"What is your name? \")\n",
    "    filename = 'username.json'\n",
    "    with open(filename, 'w') as f_obj:\n",
    "        json.dump(username, f_obj)\n",
    "    return username\n",
    "\n",
    "def greet_user():\n",
    "    \"\"\"Greet the user by name.\"\"\"\n",
    "    username = get_stored_username()\n",
    "    if username:\n",
    "        correct = input(\"Are you \" + username + \"? (y/n) \")\n",
    "        if correct == 'y':\n",
    "            print(\"Welcome back, \" + username + \"!\")\n",
    "        else:\n",
    "            username = get_new_username()\n",
    "            print(\"We'll remember you when you come back, \" + username + \"!\")\n",
    "    else:\n",
    "        username = get_new_username()\n",
    "        print(\"We'll remember you when you come back, \" + username + \"!\")\n",
    "\n",
    "greet_user()\n"
   ]
  },
  {
   "cell_type": "code",
   "execution_count": null,
   "metadata": {},
   "outputs": [],
   "source": []
  }
 ],
 "metadata": {
  "kernelspec": {
   "display_name": "Python 3",
   "language": "python",
   "name": "python3"
  }
 },
 "nbformat": 4,
 "nbformat_minor": 2
}
