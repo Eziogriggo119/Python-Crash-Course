{
 "cells": [
  {
   "cell_type": "code",
   "execution_count": 1,
   "metadata": {},
   "outputs": [],
   "source": [
    "from admin import Admin, Privileges"
   ]
  },
  {
   "cell_type": "code",
   "execution_count": 4,
   "metadata": {},
   "outputs": [
    {
     "name": "stdout",
     "output_type": "stream",
     "text": [
      "\n",
      "Xuemei Chen\n",
      "  Username: Pchen55\n",
      "  Email: pchen55@jhu.edu\n",
      "  Location: Kunming\n",
      "\n",
      "This is Administors with following privileges:\n",
      " can add post\n",
      " can delete post\n",
      " can ban user\n"
     ]
    }
   ],
   "source": [
    "admin_1 = Admin('xuemei','chen','pchen55','pchen55@jhu.edu','kunming')\n",
    "admin_1.describe_user()\n",
    "\n",
    "'''call the show privilege from admin class'''\n",
    "print('\\nThis is Administors with following privileges:')\n",
    "admin_1.privileges.show_privileges()\n"
   ]
  },
  {
   "cell_type": "code",
   "execution_count": null,
   "metadata": {},
   "outputs": [],
   "source": []
  }
 ],
 "metadata": {
  "kernelspec": {
   "display_name": "Python 3",
   "language": "python",
   "name": "python3"
  },
  "language_info": {
   "codemirror_mode": {
    "name": "ipython",
    "version": 3
   },
   "file_extension": ".py",
   "mimetype": "text/x-python",
   "name": "python",
   "nbconvert_exporter": "python",
   "pygments_lexer": "ipython3",
   "version": "3.7.4"
  }
 },
 "nbformat": 4,
 "nbformat_minor": 2
}
