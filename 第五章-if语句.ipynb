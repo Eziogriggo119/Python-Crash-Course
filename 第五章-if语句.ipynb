{
 "cells": [
  {
   "cell_type": "code",
   "execution_count": 1,
   "metadata": {},
   "outputs": [
    {
     "name": "stdout",
     "output_type": "stream",
     "text": [
      "player get five point\n"
     ]
    }
   ],
   "source": [
    "# 5-3 外星人颜色#1 \n",
    "alien_color  = 'green'\n",
    "if alien_color == 'green':\n",
    "    print('player get five point')\n",
    "    \n",
    "if alien_color == 'yellow':\n",
    "    print('')\n",
    "    "
   ]
  },
  {
   "cell_type": "code",
   "execution_count": 2,
   "metadata": {},
   "outputs": [
    {
     "name": "stdout",
     "output_type": "stream",
     "text": [
      "you just earned 5 points!\n"
     ]
    }
   ],
   "source": [
    "# 5-4 外星人颜色#2\n",
    "if alien_color == 'green':\n",
    "    print('you just earned 5 points!')\n",
    "else:\n",
    "    print('you just earned 10 points!')\n",
    "    "
   ]
  },
  {
   "cell_type": "code",
   "execution_count": 4,
   "metadata": {},
   "outputs": [
    {
     "name": "stdout",
     "output_type": "stream",
     "text": [
      "you just earned 5 points!\n"
     ]
    }
   ],
   "source": [
    "# 5-5外星人颜色#3\n",
    "alien_color == 'red'\n",
    "if alien_color == 'green':\n",
    "    print('you just earned 5 points!')\n",
    "elif alien_color == 'yellow':\n",
    "    print('you just earned 10 points!')\n",
    "elif alien_color == 'red':\n",
    "    print('you just earned 15 points!')"
   ]
  },
  {
   "cell_type": "code",
   "execution_count": 5,
   "metadata": {},
   "outputs": [
    {
     "name": "stdout",
     "output_type": "stream",
     "text": [
      "you are a adult\n"
     ]
    }
   ],
   "source": [
    "# 5-6 人生不同的阶段\n",
    "age = 45\n",
    "if age < 2:\n",
    "    print('you are still a baby')\n",
    "elif age >= 2 and age < 4:\n",
    "    print('you are learning walk now')\n",
    "elif age >= 4 and age  < 13:\n",
    "    print('you are a child')\n",
    "elif age >= 13 and age < 20:\n",
    "    print('you are a young people')\n",
    "elif age >= 20 and age < 65:\n",
    "    print('you are a adult')\n",
    "else:\n",
    "    print('you are a old people')"
   ]
  },
  {
   "cell_type": "code",
   "execution_count": 7,
   "metadata": {},
   "outputs": [
    {
     "name": "stdout",
     "output_type": "stream",
     "text": [
      "You really like bananas!\n",
      "You really like cherry!\n",
      "You really like apple!\n"
     ]
    }
   ],
   "source": [
    "# 5-7 喜欢的水果\n",
    "favorite_fruits = ['apple','banana','cherry']\n",
    "if 'banana' in favorite_fruits:\n",
    "    print('You really like bananas!')\n",
    "if 'orange' in favorite_fruits:\n",
    "    print('You really like orange!')\n",
    "if 'cherry' in favorite_fruits:\n",
    "    print('You really like cherry!')\n",
    "if 'apple' in favorite_fruits:\n",
    "    print('You really like apple!')"
   ]
  },
  {
   "cell_type": "code",
   "execution_count": 8,
   "metadata": {},
   "outputs": [
    {
     "name": "stdout",
     "output_type": "stream",
     "text": [
      "Hello eric, thank you for logging in agin\n",
      "Hello willie, thank you for logging in agin\n",
      "Hello admin, would you like to see status report?\n",
      "Hello erin, thank you for logging in agin\n",
      "Hello ever, thank you for logging in agin\n"
     ]
    }
   ],
   "source": [
    "#5-8 以特殊方式和管理员打招呼\n",
    "usernames = ['eric', 'willie', 'admin', 'erin', 'ever']\n",
    "for username in usernames:\n",
    "    if username == 'admin':\n",
    "        print('Hello admin, would you like to see status report?')\n",
    "    else:\n",
    "        print('Hello ' + username + ', thank you for logging in agin')"
   ]
  },
  {
   "cell_type": "code",
   "execution_count": 10,
   "metadata": {},
   "outputs": [
    {
     "name": "stdout",
     "output_type": "stream",
     "text": [
      "we need to find some users!\n"
     ]
    }
   ],
   "source": [
    "#5-9 处理没有用户的情况\n",
    "usernames = []\n",
    "if usernames:\n",
    "    for username in usernames:\n",
    "        if username == 'admin':\n",
    "            print('Hello admin, would you like to see status report?')\n",
    "        else:\n",
    "            print('Hello ' + username + ', thank you for logging in agin')\n",
    "else: \n",
    "    print('we need to find some users!')"
   ]
  },
  {
   "cell_type": "code",
   "execution_count": 17,
   "metadata": {},
   "outputs": [
    {
     "name": "stdout",
     "output_type": "stream",
     "text": [
      "sarah, this username haven't been used\n",
      "Please use another name,willie has been taken\n",
      "phil, this username haven't been used\n",
      "Please use another name,ever has been taken\n",
      "iona, this username haven't been used\n"
     ]
    }
   ],
   "source": [
    "#5-10 检查用户名\n",
    "current_users = ['eric', 'willie', 'admin', 'erin', 'Ever']\n",
    "new_users = ['sarah', 'Willie', 'PHIL', 'ever', 'Iona']\n",
    "\n",
    "current_users = [current_user.lower() for current_user in current_users]\n",
    "new_users = [new_user.lower() for new_user in new_users]\n",
    "\n",
    "for new_user in new_users:\n",
    "    if new_user in current_users:\n",
    "        print('Please use another name,' + new_user + ' has been taken')\n",
    "    else:\n",
    "        print(new_user + \", this username haven't been used\")"
   ]
  },
  {
   "cell_type": "code",
   "execution_count": 19,
   "metadata": {},
   "outputs": [
    {
     "name": "stdout",
     "output_type": "stream",
     "text": [
      "1st\n",
      "2nd\n",
      "3th\n",
      "4th\n",
      "5th\n",
      "6th\n",
      "7th\n",
      "8th\n",
      "9th\n"
     ]
    }
   ],
   "source": [
    "# 5-11序数\n",
    "numbers = list(range(1,10))\n",
    "for number in numbers:\n",
    "    if number == 1:\n",
    "        print(str(number) + 'st')\n",
    "    elif number == 2:\n",
    "        print(str(number) + 'nd')\n",
    "    else:\n",
    "        print(str(number) + 'th')"
   ]
  },
  {
   "cell_type": "code",
   "execution_count": null,
   "metadata": {},
   "outputs": [],
   "source": []
  }
 ],
 "metadata": {
  "kernelspec": {
   "display_name": "Python 3",
   "language": "python",
   "name": "python3"
  },
  "language_info": {
   "codemirror_mode": {
    "name": "ipython",
    "version": 3
   },
   "file_extension": ".py",
   "mimetype": "text/x-python",
   "name": "python",
   "nbconvert_exporter": "python",
   "pygments_lexer": "ipython3",
   "version": "3.7.4"
  }
 },
 "nbformat": 4,
 "nbformat_minor": 2
}
