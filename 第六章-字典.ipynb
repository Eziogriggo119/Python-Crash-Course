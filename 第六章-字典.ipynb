{
 "cells": [
  {
   "cell_type": "code",
   "execution_count": 3,
   "metadata": {},
   "outputs": [
    {
     "name": "stdout",
     "output_type": "stream",
     "text": [
      "eric\n",
      "matthes\n",
      "43\n",
      "sitka\n"
     ]
    }
   ],
   "source": [
    "# 6-1 人\n",
    "person = {\n",
    "    'first_name': 'eric',\n",
    "    'last_name': 'matthes',\n",
    "    'age': 43,\n",
    "    'city': 'sitka',\n",
    "    }\n",
    "print(person['first_name'])\n",
    "print(person['last_name'])\n",
    "print(person['age'])\n",
    "print(person['city'])"
   ]
  },
  {
   "cell_type": "code",
   "execution_count": 7,
   "metadata": {},
   "outputs": [
    {
     "name": "stdout",
     "output_type": "stream",
     "text": [
      "Mandy's favorite number is 42\n",
      "Micah's favorite number is 23\n",
      "Gus's favorite number is 7\n",
      "Hank's favorite number is 1000000\n",
      "Maggie's favorite number is 0\n"
     ]
    }
   ],
   "source": [
    "# 6-2喜欢的数字\n",
    "favorite_numbers = {\n",
    "    'mandy': 42,\n",
    "    'micah': 23,\n",
    "    'gus': 7,\n",
    "    'hank': 1000000,\n",
    "    'maggie': 0,\n",
    "    }\n",
    "\n",
    "print(\"Mandy's favorite number is \" + str(favorite_numbers['mandy']))\n",
    "print(\"Micah's favorite number is \" + str(favorite_numbers['micah']))\n",
    "print(\"Gus's favorite number is \" + str(favorite_numbers['gus']))\n",
    "print(\"Hank's favorite number is \" + str(favorite_numbers['hank']))\n",
    "print(\"Maggie's favorite number is \" + str(favorite_numbers['maggie']))"
   ]
  },
  {
   "cell_type": "code",
   "execution_count": 9,
   "metadata": {},
   "outputs": [
    {
     "name": "stdout",
     "output_type": "stream",
     "text": [
      "string: A series of characters.\n",
      "comment: A note in a program that the Python interpreter ignores.\n",
      "list: A collection of items in a particular order.\n",
      "loop: Work through a collection of items, one at a time.\n",
      "dictionary: A collection of key-value pairs.\n"
     ]
    }
   ],
   "source": [
    "# 6-3词汇表\n",
    "glossary = {\n",
    "    'string': 'A series of characters.',\n",
    "    'comment': 'A note in a program that the Python interpreter ignores.',\n",
    "    'list': 'A collection of items in a particular order.',\n",
    "    'loop': 'Work through a collection of items, one at a time.',\n",
    "    'dictionary': \"A collection of key-value pairs.\",\n",
    "    }\n",
    "\n",
    "print('string: ' + glossary['string'])\n",
    "print('comment: ' + glossary['comment'])\n",
    "print('list: ' + glossary['list'])\n",
    "print('loop: ' + glossary['loop'])\n",
    "print('dictionary: ' + glossary['dictionary'])"
   ]
  },
  {
   "cell_type": "code",
   "execution_count": 1,
   "metadata": {},
   "outputs": [
    {
     "name": "stdout",
     "output_type": "stream",
     "text": [
      "\n",
      "String: A series of characters.\n",
      "\n",
      "Comment: A note in a program that the Python interpreter ignores.\n",
      "\n",
      "List: A collection of items in a particular order.\n",
      "\n",
      "Loop: Work through a collection of items, one at a time.\n",
      "\n",
      "Dictionary: A collection of key-value pairs.\n",
      "\n",
      "Key: The first item in a key-value pair in a dictionary.\n",
      "\n",
      "Value: An item associated with a key in a dictionary.\n",
      "\n",
      "Conditional Test: A comparison between two values.\n",
      "\n",
      "Float: A numerical value with a decimal component.\n",
      "\n",
      "Boolean Expression: An expression that evaluates to True or False.\n"
     ]
    }
   ],
   "source": [
    "# 6-4 词汇表2\n",
    "glossary = {\n",
    "    'string': 'A series of characters.',\n",
    "    'comment': 'A note in a program that the Python interpreter ignores.',\n",
    "    'list': 'A collection of items in a particular order.',\n",
    "    'loop': 'Work through a collection of items, one at a time.',\n",
    "    'dictionary': \"A collection of key-value pairs.\",\n",
    "    'key': 'The first item in a key-value pair in a dictionary.',\n",
    "    'value': 'An item associated with a key in a dictionary.',\n",
    "    'conditional test': 'A comparison between two values.',\n",
    "    'float': 'A numerical value with a decimal component.',\n",
    "    'boolean expression': 'An expression that evaluates to True or False.',\n",
    "    }\n",
    "for word, definition in glossary.items():\n",
    "    print('\\n' + word.title() + ': ' + definition)"
   ]
  },
  {
   "cell_type": "code",
   "execution_count": 5,
   "metadata": {},
   "outputs": [
    {
     "name": "stdout",
     "output_type": "stream",
     "text": [
      "The Nile runs through egypt\n",
      "The Mississippi runs through united states\n",
      "The Fraser runs through canada\n",
      "The Kuskokwim runs through alaska\n",
      "The Yangtze runs through china\n",
      "\n",
      "\n",
      "nile\n",
      "mississippi\n",
      "fraser\n",
      "kuskokwim\n",
      "yangtze\n",
      "\n",
      "\n",
      "egypt\n",
      "united states\n",
      "canada\n",
      "alaska\n",
      "china\n"
     ]
    }
   ],
   "source": [
    "# 6-5 河流\n",
    "rivers = {\n",
    "    'nile': 'egypt',\n",
    "    'mississippi': 'united states',\n",
    "    'fraser': 'canada',\n",
    "    'kuskokwim': 'alaska',\n",
    "    'yangtze': 'china',\n",
    "    }\n",
    "for river,country in rivers.items():\n",
    "    print('The ' + river.title() + ' runs through ' + country)\n",
    "    \n",
    "print('\\n')\n",
    "for river in rivers.keys():\n",
    "    print(river)\n",
    "print('\\n')\n",
    "for country in rivers.values():\n",
    "    print(country)"
   ]
  },
  {
   "cell_type": "code",
   "execution_count": 10,
   "metadata": {},
   "outputs": [
    {
     "name": "stdout",
     "output_type": "stream",
     "text": [
      "Jen's favorite language is Python\n",
      "Sarah's favorite language is C\n",
      "Edward's favorite language is Ruby\n",
      "Phil's favorite language is Python\n",
      "\n",
      "\n",
      "phil, thank you for taking the survey\n",
      "josh, Please take the survey\n",
      "david, Please take the survey\n",
      "becca, Please take the survey\n",
      "sarah, thank you for taking the survey\n",
      "matt, Please take the survey\n",
      "danielle, Please take the survey\n"
     ]
    }
   ],
   "source": [
    "#6-6 调查\n",
    "favorite_languages = {\n",
    "    'jen': 'python',\n",
    "    'sarah': 'c',\n",
    "    'edward': 'ruby',\n",
    "    'phil': 'python',\n",
    "    }\n",
    "for name, language in favorite_languages.items():\n",
    "    print(name.title() + \"'s favorite language is \" + \n",
    "          language.title())\n",
    "print('\\n')\n",
    "coders = ['phil', 'josh', 'david', 'becca', 'sarah', 'matt', 'danielle']\n",
    "for coder in coders:\n",
    "    if coder in favorite_languages.keys():\n",
    "        print( coder + ', thank you for taking the survey')\n",
    "    else:\n",
    "        print(coder + ', Please take the survey')"
   ]
  },
  {
   "cell_type": "code",
   "execution_count": 15,
   "metadata": {},
   "outputs": [
    {
     "name": "stdout",
     "output_type": "stream",
     "text": [
      "\n",
      "Full name:Eric Matthes\n",
      "Age: 43\n",
      "Location: sitka\n",
      "\n",
      "Full name:Ever Matthes\n",
      "Age: 5\n",
      "Location: sitka\n",
      "\n",
      "Full name:Willie Matthes\n",
      "Age: 8\n",
      "Location: sitka\n"
     ]
    }
   ],
   "source": [
    "# 6-7 人\n",
    "people = []\n",
    "\n",
    "# Define some people, and add them to the list.\n",
    "person = {\n",
    "    'first_name': 'eric',\n",
    "    'last_name': 'matthes',\n",
    "    'age': 43,\n",
    "    'city': 'sitka',\n",
    "    }\n",
    "people.append(person)\n",
    "\n",
    "person = {\n",
    "    'first_name': 'ever',\n",
    "    'last_name': 'matthes',\n",
    "    'age': 5,\n",
    "    'city': 'sitka',\n",
    "    }\n",
    "people.append(person)\n",
    "\n",
    "person = {\n",
    "    'first_name': 'willie',\n",
    "    'last_name': 'matthes',\n",
    "    'age': 8,\n",
    "    'city': 'sitka',\n",
    "    }\n",
    "people.append(person)\n",
    "\n",
    "for person in people:\n",
    "    print('\\nFull name:' + person['first_name'].title() + \n",
    "          ' ' + person['last_name'].title())\n",
    "    print('Age: ' + str(person['age']))\n",
    "    print('Location: ' + person['city'])"
   ]
  },
  {
   "cell_type": "code",
   "execution_count": 19,
   "metadata": {},
   "outputs": [
    {
     "name": "stdout",
     "output_type": "stream",
     "text": [
      "\n",
      "Here is what I know about john:\n",
      "\tanimal type: python\n",
      "\tname: john\n",
      "\towner: guido\n",
      "\tweight: 43\n",
      "\teats: bugs\n",
      "\n",
      "Here is what I know about clarence:\n",
      "\tanimal type: chicken\n",
      "\tname: clarence\n",
      "\towner: tiffany\n",
      "\tweight: 2\n",
      "\teats: seeds\n",
      "\n",
      "Here is what I know about peso:\n",
      "\tanimal type: dog\n",
      "\tname: peso\n",
      "\towner: eric\n",
      "\tweight: 37\n",
      "\teats: shoes\n"
     ]
    }
   ],
   "source": [
    "# 6-8 宠物\n",
    "pets = []\n",
    "pet = {\n",
    "    'animal type': 'python',\n",
    "    'name': 'john',\n",
    "    'owner': 'guido',\n",
    "    'weight': 43,\n",
    "    'eats': 'bugs',\n",
    "}\n",
    "pets.append(pet)\n",
    "\n",
    "pet = {\n",
    "    'animal type': 'chicken',\n",
    "    'name': 'clarence',\n",
    "    'owner': 'tiffany',\n",
    "    'weight': 2,\n",
    "    'eats': 'seeds',\n",
    "}\n",
    "pets.append(pet)\n",
    "\n",
    "pet = {\n",
    "    'animal type': 'dog',\n",
    "    'name': 'peso',\n",
    "    'owner': 'eric',\n",
    "    'weight': 37,\n",
    "    'eats': 'shoes',\n",
    "}\n",
    "pets.append(pet)\n",
    "\n",
    "for pet in pets:\n",
    "    print('\\nHere is what I know about ' + pet['name'] + ':')\n",
    "    for key, value in pet.items():\n",
    "        print('\\t' + key + ': ' + str(value) )"
   ]
  },
  {
   "cell_type": "code",
   "execution_count": 23,
   "metadata": {},
   "outputs": [
    {
     "name": "stdout",
     "output_type": "stream",
     "text": [
      "\n",
      "Eric 's faveorite places are:\n",
      "\tbear mountain\n",
      "\tdeath valley\n",
      "\ttierra del fuego\n",
      "\n",
      "Erin 's faveorite places are:\n",
      "\thawaii\n",
      "\ticeland\n",
      "\n",
      "Ever 's faveorite places are:\n",
      "\tmt. verstovia\n",
      "\tthe playground\n",
      "\tsouth carolina\n"
     ]
    }
   ],
   "source": [
    "#6-9 喜欢的地方\n",
    "favorite_places = {\n",
    "    'eric': ['bear mountain', 'death valley', 'tierra del fuego'],\n",
    "    'erin': ['hawaii', 'iceland'],\n",
    "    'ever': ['mt. verstovia', 'the playground', 'south carolina']\n",
    "    }\n",
    "\n",
    "for name, places in favorite_places.items():\n",
    "    print('\\n' + name.title() + \" 's faveorite places are:\")\n",
    "    for place in places:\n",
    "        print('\\t' + place)"
   ]
  },
  {
   "cell_type": "code",
   "execution_count": 24,
   "metadata": {},
   "outputs": [
    {
     "name": "stdout",
     "output_type": "stream",
     "text": [
      "\n",
      "Mandy 's favorite number are:\n",
      "\t42\n",
      "\t17\n",
      "\n",
      "Micah 's favorite number are:\n",
      "\t42\n",
      "\t39\n",
      "\t56\n",
      "\n",
      "Gus 's favorite number are:\n",
      "\t7\n",
      "\t12\n"
     ]
    }
   ],
   "source": [
    "#6-10 喜欢的数字\n",
    "favorite_numbers = {\n",
    "    'mandy': [42, 17],\n",
    "    'micah': [42, 39, 56],\n",
    "    'gus': [7, 12],\n",
    "    }\n",
    "\n",
    "for name, numbers in favorite_numbers.items():\n",
    "    print('\\n' + name.title() + \" 's favorite number are:\")\n",
    "    for number in numbers:\n",
    "        print('\\t' + str(number))"
   ]
  },
  {
   "cell_type": "code",
   "execution_count": 41,
   "metadata": {},
   "outputs": [
    {
     "name": "stdout",
     "output_type": "stream",
     "text": [
      "\n",
      "Santiago is in Chile\n",
      "Santiago has 6158080 people\n",
      "Santiago nearby mountains is andes\n",
      "\n",
      "Talkeetna is in Alaska\n",
      "Talkeetna has 876 people\n",
      "Talkeetna nearby mountains is alaska range\n",
      "\n",
      "Kathmandu is in Nepal\n",
      "Kathmandu has 1003285 people\n",
      "Kathmandu nearby mountains is himilaya\n"
     ]
    }
   ],
   "source": [
    "#6-11城市\n",
    "cities = {\n",
    "    'santiago': {\n",
    "        'country': 'chile',\n",
    "        'population': 6158080,\n",
    "        'nearby mountains': 'andes',\n",
    "        },\n",
    "    'talkeetna': {\n",
    "        'country': 'alaska',\n",
    "        'population': 876,\n",
    "        'nearby mountains': 'alaska range',\n",
    "        },\n",
    "    'kathmandu': {\n",
    "        'country': 'nepal',\n",
    "        'population': 1003285,\n",
    "        'nearby mountains': 'himilaya',\n",
    "        }\n",
    "    }\n",
    "for city, city_info in cities.items():\n",
    "    print('\\n' + city.title() + ' is in ' + city_info['country'].title())\n",
    "    print(city.title() + ' has ' + str(city_info['population']) + ' people')\n",
    "    print(city.title() + ' nearby mountains is ' + city_info['nearby mountains'])\n",
    "    \n"
   ]
  },
  {
   "cell_type": "code",
   "execution_count": null,
   "metadata": {},
   "outputs": [],
   "source": []
  }
 ],
 "metadata": {
  "kernelspec": {
   "display_name": "Python 3",
   "language": "python",
   "name": "python3"
  },
  "language_info": {
   "codemirror_mode": {
    "name": "ipython",
    "version": 3
   },
   "file_extension": ".py",
   "mimetype": "text/x-python",
   "name": "python",
   "nbconvert_exporter": "python",
   "pygments_lexer": "ipython3",
   "version": "3.7.4"
  }
 },
 "nbformat": 4,
 "nbformat_minor": 2
}
