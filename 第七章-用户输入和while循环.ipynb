{
 "cells": [
  {
   "cell_type": "code",
   "execution_count": 1,
   "metadata": {},
   "outputs": [
    {
     "name": "stdout",
     "output_type": "stream",
     "text": [
      "What kind of car do you like: Audi\n",
      "Let me see if i can find you a Subaru\n"
     ]
    }
   ],
   "source": [
    "# 7-1 汽车租赁\n",
    "car = input('What kind of car do you like: ')\n",
    "\n",
    "print('Let me see if i can find you a Subaru')"
   ]
  },
  {
   "cell_type": "code",
   "execution_count": 2,
   "metadata": {},
   "outputs": [
    {
     "name": "stdout",
     "output_type": "stream",
     "text": [
      "how many people go for the dinner: 20\n",
      "Sorry, we don't have empty table\n"
     ]
    }
   ],
   "source": [
    "# 7-2 餐馆订位\n",
    "party_size = input('how many people go for the dinner: ')\n",
    "if int(party_size) > 8:\n",
    "    print(\"Sorry, we don't have empty table\")\n",
    "else:\n",
    "    print('We have enough table for the party')"
   ]
  },
  {
   "cell_type": "code",
   "execution_count": 4,
   "metadata": {},
   "outputs": [
    {
     "name": "stdout",
     "output_type": "stream",
     "text": [
      "please enter a number: 20\n",
      "This number is integer multiples of 10\n"
     ]
    }
   ],
   "source": [
    "# 7-3 10的整倍数\n",
    "number = input('please enter a number: ')\n",
    "if int(number) % 10 == 0:\n",
    "    print('This number is integer multiples of 10')\n",
    "else:\n",
    "    print('This number is not integer multiple of 10')"
   ]
  },
  {
   "cell_type": "code",
   "execution_count": 2,
   "metadata": {},
   "outputs": [
    {
     "name": "stdout",
     "output_type": "stream",
     "text": [
      "\n",
      "Please enter one toppings you would add to your pizza\n",
      "(Enter quit when you are finished) spicy\n",
      "we are adding spicy to your pizza\n",
      "\n",
      "Please enter one toppings you would add to your pizza\n",
      "(Enter quit when you are finished) apple\n",
      "we are adding apple to your pizza\n",
      "\n",
      "Please enter one toppings you would add to your pizza\n",
      "(Enter quit when you are finished) quit\n"
     ]
    }
   ],
   "source": [
    "#7-4 比萨配料\n",
    "msg = '\\nPlease enter one toppings you would add to your pizza'\n",
    "msg += \"\\n(Enter quit when you are finished) \"\n",
    "active = True\n",
    "while active:\n",
    "    message = input(msg)\n",
    "    if message == 'quit':\n",
    "        active = False\n",
    "    else:\n",
    "        print('we are adding ' + message + ' to your pizza')"
   ]
  },
  {
   "cell_type": "code",
   "execution_count": 5,
   "metadata": {},
   "outputs": [
    {
     "name": "stdout",
     "output_type": "stream",
     "text": [
      "\n",
      "(Enter 'quit' when you are finished) 10\n",
      "Please buy $10 ticket\n",
      "\n",
      "(Enter 'quit' when you are finished) 1\n",
      "You don't have to buy a ticket\n",
      "\n",
      "(Enter 'quit' when you are finished) 8\n",
      "Please buy $10 ticket\n",
      "\n",
      "(Enter 'quit' when you are finished) quit\n"
     ]
    }
   ],
   "source": [
    "# 7-5 电影票\n",
    "msg = '\\nPlease enter your age'\n",
    "msg = \"\\n(Enter 'quit' when you are finished) \"\n",
    "\n",
    "while True:\n",
    "    age = input(msg)\n",
    "    if age == 'quit':\n",
    "        break\n",
    "    elif int(age) < 3:\n",
    "        print(\"You don't have to buy a ticket\")\n",
    "    elif int(age) < 12:\n",
    "        print('Please buy $10 ticket')\n",
    "    else:\n",
    "        print('Please buy $15 ticket')\n",
    "    "
   ]
  },
  {
   "cell_type": "code",
   "execution_count": 6,
   "metadata": {},
   "outputs": [],
   "source": [
    "#7-7 略"
   ]
  },
  {
   "cell_type": "code",
   "execution_count": 8,
   "metadata": {},
   "outputs": [
    {
     "name": "stdout",
     "output_type": "stream",
     "text": [
      "I made you roast beef sandwich\n",
      "I made you turkey sandwich\n",
      "I made you grilled cheese sandwich\n",
      "I made you veggie sandwich\n",
      "\n",
      "\n",
      "roast beef\n",
      "turkey\n",
      "grilled cheese\n",
      "veggie\n"
     ]
    }
   ],
   "source": [
    "# 7-8 熟食店\n",
    "sandwich_orders = ['veggie', 'grilled cheese', 'turkey', 'roast beef']\n",
    "finished_sandwiches = []\n",
    "\n",
    "while sandwich_orders:\n",
    "    sandwich = sandwich_orders.pop()\n",
    "    print('I made you ' + sandwich + ' sandwich')\n",
    "    finished_sandwiches.append(sandwich)\n",
    "print('\\n')   \n",
    "for sandwich in finished_sandwiches:\n",
    "    print(sandwich)"
   ]
  },
  {
   "cell_type": "code",
   "execution_count": 12,
   "metadata": {},
   "outputs": [
    {
     "name": "stdout",
     "output_type": "stream",
     "text": [
      "we have sold out the pastrami\n",
      "\n",
      "\n",
      "I made you roast beef sandwich\n",
      "I made you turkey sandwich\n",
      "I made you grilled cheese sandwich\n",
      "I made you veggie sandwich\n",
      "\n",
      "\n",
      "roast beef\n",
      "turkey\n",
      "grilled cheese\n",
      "veggie\n"
     ]
    }
   ],
   "source": [
    "#7-9 五香烟熏牛肉（pastrami）卖完了\n",
    "sandwich_orders = [\n",
    "    'pastrami', 'veggie', 'grilled cheese', 'pastrami',\n",
    "    'turkey', 'roast beef', 'pastrami']\n",
    "finished_sandwiches = []\n",
    "\n",
    "print('we have sold out the pastrami')\n",
    "while 'pastrami' in sandwich_orders:\n",
    "    sandwich_orders.remove('pastrami')\n",
    "    \n",
    "print('\\n')\n",
    "while sandwich_orders:\n",
    "    sandwich = sandwich_orders.pop()\n",
    "    print('I made you ' + sandwich + ' sandwich')\n",
    "    finished_sandwiches.append(sandwich)\n",
    "print('\\n')   \n",
    "for sandwich in finished_sandwiches:\n",
    "    print(sandwich)"
   ]
  },
  {
   "cell_type": "code",
   "execution_count": 2,
   "metadata": {},
   "outputs": [
    {
     "name": "stdout",
     "output_type": "stream",
     "text": [
      "\n",
      "Please tell me your name Pengfei\n",
      "If you could visit one place in this world, where would you go? Kunming\n",
      "Would you like other people to take this survey (Yes/No)Yes\n",
      "\n",
      "Please tell me your name Lin \n",
      "If you could visit one place in this world, where would you go? SHANGAHI\n",
      "Would you like other people to take this survey (Yes/No)No\n",
      "\n",
      "\n",
      "Pengfei would like to go to Kunming\n",
      "Lin  would like to go to SHANGAHI\n"
     ]
    }
   ],
   "source": [
    "# 7-10 梦想的度假胜地\n",
    "responses = {}\n",
    "polling_active = True\n",
    "while polling_active:\n",
    "    name = input('\\nPlease tell me your name ')\n",
    "    response = input('If you could visit one place in this world, where would you go? ')\n",
    "    \n",
    "    responses[name] = response\n",
    "    repeat = input('Would you like other people to take this survey (Yes/No)')\n",
    "    if repeat == 'No':\n",
    "        polling_active = False\n",
    "print('\\n')   \n",
    "for name, response in responses.items():\n",
    "    print(name + ' would like to go to ' + response)"
   ]
  },
  {
   "cell_type": "code",
   "execution_count": null,
   "metadata": {},
   "outputs": [],
   "source": []
  }
 ],
 "metadata": {
  "kernelspec": {
   "display_name": "Python 3",
   "language": "python",
   "name": "python3"
  },
  "language_info": {
   "codemirror_mode": {
    "name": "ipython",
    "version": 3
   },
   "file_extension": ".py",
   "mimetype": "text/x-python",
   "name": "python",
   "nbconvert_exporter": "python",
   "pygments_lexer": "ipython3",
   "version": "3.7.4"
  }
 },
 "nbformat": 4,
 "nbformat_minor": 2
}
